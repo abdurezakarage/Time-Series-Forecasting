{
 "cells": [
  {
   "cell_type": "code",
   "execution_count": 1,
   "id": "95394a71",
   "metadata": {},
   "outputs": [],
   "source": [
    "import pandas as pd\n",
    "import numpy as np\n",
    "from datetime import datetime\n",
    "import os\n",
    "# Add the project root directory to Python path\n",
    "import sys\n",
    "sys.path.append(os.path.abspath(os.path.join(os.path.dirname('__file__'), '..')))"
   ]
  },
  {
   "cell_type": "code",
   "execution_count": 2,
   "id": "9c6bada0",
   "metadata": {},
   "outputs": [],
   "source": [
    "from src.data_loader import FinancialDataLoader"
   ]
  },
  {
   "cell_type": "code",
   "execution_count": 3,
   "id": "11cb15cf",
   "metadata": {},
   "outputs": [],
   "source": [
    "loader = FinancialDataLoader()"
   ]
  },
  {
   "cell_type": "code",
   "execution_count": 4,
   "id": "7d94eb82",
   "metadata": {},
   "outputs": [
    {
     "name": "stdout",
     "output_type": "stream",
     "text": [
      "Fetching financial data from YFinance...\n",
      "Loading TSLA: Tesla Inc. - High-growth, high-risk stock\n",
      "✓ Successfully loaded TSLA: 2535 records\n",
      "  Date range: 2015-07-01 to 2025-07-30\n",
      "Loading BND: Vanguard Total Bond Market ETF - Stability and income\n",
      "✓ Successfully loaded BND: 2535 records\n",
      "  Date range: 2015-07-01 to 2025-07-30\n",
      "Loading SPY: SPDR S&P 500 ETF - Broad market exposure\n",
      "✓ Successfully loaded SPY: 2535 records\n",
      "  Date range: 2015-07-01 to 2025-07-30\n"
     ]
    }
   ],
   "source": [
    "data = loader.fetch_data()"
   ]
  },
  {
   "cell_type": "code",
   "execution_count": 5,
   "id": "444ee4ba",
   "metadata": {},
   "outputs": [
    {
     "name": "stdout",
     "output_type": "stream",
     "text": [
      "\n",
      "==================================================\n",
      "DATA SUMMARY\n",
      "==================================================\n",
      "\n",
      "TSLA:\n",
      "  Shape: (2535, 7)\n",
      "  Columns: ['Open', 'High', 'Low', 'Close', 'Volume', 'Dividends', 'Stock Splits']\n",
      "  Date range: 2015-07-01 to 2025-07-30\n",
      "  Missing values: 0\n",
      "  Close price range: $9.58 - $479.86\n",
      "\n",
      "BND:\n",
      "  Shape: (2535, 8)\n",
      "  Columns: ['Open', 'High', 'Low', 'Close', 'Volume', 'Dividends', 'Stock Splits', 'Capital Gains']\n",
      "  Date range: 2015-07-01 to 2025-07-30\n",
      "  Missing values: 0\n",
      "  Close price range: $60.78 - $77.32\n",
      "\n",
      "SPY:\n",
      "  Shape: (2535, 8)\n",
      "  Columns: ['Open', 'High', 'Low', 'Close', 'Volume', 'Dividends', 'Stock Splits', 'Capital Gains']\n",
      "  Date range: 2015-07-01 to 2025-07-30\n",
      "  Missing values: 0\n",
      "  Close price range: $155.87 - $637.10\n"
     ]
    }
   ],
   "source": [
    "print(\"\\n\" + \"=\"*50)\n",
    "print(\"DATA SUMMARY\")\n",
    "print(\"=\"*50)\n",
    "    \n",
    "for symbol, df in data.items():\n",
    "        print(f\"\\n{symbol}:\")\n",
    "        print(f\"  Shape: {df.shape}\")\n",
    "        print(f\"  Columns: {list(df.columns)}\")\n",
    "        print(f\"  Date range: {df.index.min().date()} to {df.index.max().date()}\")\n",
    "        print(f\"  Missing values: {df.isnull().sum().sum()}\")\n",
    "        \n",
    "        if 'Close' in df.columns:\n",
    "            print(f\"  Close price range: ${df['Close'].min():.2f} - ${df['Close'].max():.2f}\")"
   ]
  },
  {
   "cell_type": "code",
   "execution_count": 7,
   "id": "6caa5766",
   "metadata": {},
   "outputs": [
    {
     "name": "stdout",
     "output_type": "stream",
     "text": [
      "✓ Saved TSLA data to ../data\\TSLA_data.csv\n",
      "✓ Saved BND data to ../data\\BND_data.csv\n",
      "✓ Saved SPY data to ../data\\SPY_data.csv\n"
     ]
    }
   ],
   "source": [
    "# Save fetched data to CSV files\n",
    "loader.save_data_to_csv(directory='../data')"
   ]
  }
 ],
 "metadata": {
  "kernelspec": {
   "display_name": "Python 3",
   "language": "python",
   "name": "python3"
  },
  "language_info": {
   "codemirror_mode": {
    "name": "ipython",
    "version": 3
   },
   "file_extension": ".py",
   "mimetype": "text/x-python",
   "name": "python",
   "nbconvert_exporter": "python",
   "pygments_lexer": "ipython3",
   "version": "3.13.5"
  }
 },
 "nbformat": 4,
 "nbformat_minor": 5
}
